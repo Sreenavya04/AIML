{
  "nbformat": 4,
  "nbformat_minor": 0,
  "metadata": {
    "colab": {
      "provenance": [],
      "authorship_tag": "ABX9TyMyIB7vhfpwxvzbNgLN6R4f",
      "include_colab_link": true
    },
    "kernelspec": {
      "name": "python3",
      "display_name": "Python 3"
    },
    "language_info": {
      "name": "python"
    }
  },
  "cells": [
    {
      "cell_type": "markdown",
      "metadata": {
        "id": "view-in-github",
        "colab_type": "text"
      },
      "source": [
        "<a href=\"https://colab.research.google.com/github/Sreenavya04/AIML/blob/main/Untitled0.ipynb\" target=\"_parent\"><img src=\"https://colab.research.google.com/assets/colab-badge.svg\" alt=\"Open In Colab\"/></a>"
      ]
    },
    {
      "cell_type": "code",
      "execution_count": 21,
      "metadata": {
        "colab": {
          "base_uri": "https://localhost:8080/"
        },
        "id": "PnSzqMbajUgh",
        "outputId": "ca8d1e41-a218-4cf9-c0b8-af18a330c859"
      },
      "outputs": [
        {
          "output_type": "stream",
          "name": "stdout",
          "text": [
            "List: [1, 4, 16, 31]\n",
            "Array1: [10 20 30 40]\n",
            "Array2: [30 50 60 70]\n",
            "Arrayaddition: [ 40  70  90 110]\n",
            "Type: <class 'list'>\n",
            "Type: <class 'numpy.ndarray'>\n",
            "multiplication: [ 300 1000 1800 2800]\n",
            "Division: [0.33333333 0.4        0.5        0.57142857]\n",
            "powerof: [5076944270305263616                   0 1152921504606846976\n",
            "                   0]\n",
            "TextAddition: ['sree' 'navya']\n",
            "sin: [-0.54402111  0.91294525 -0.98803162  0.74511316]\n",
            "log: [2.30258509 2.99573227 3.40119738 3.68887945]\n",
            "log2: [4.9068906  5.64385619 5.9068906  6.12928302]\n",
            "exponent: [2.20264658e+04 4.85165195e+08 1.06864746e+13 2.35385267e+17]\n"
          ]
        }
      ],
      "source": [
        "import numpy as np\n",
        "a=[1,4,16,31]\n",
        "print(\"List:\",a)\n",
        "arr1=np.array([10,20,30,40])\n",
        "print(\"Array1:\",arr1)\n",
        "arr2=np.array([30,50,60,70])\n",
        "print(\"Array2:\",arr2)\n",
        "b=arr1+arr2\n",
        "print(\"Arrayaddition:\",b)\n",
        "print(\"Type:\",type(a))\n",
        "print(\"Type:\",type(arr1))\n",
        "c=arr1*arr2\n",
        "print(\"multiplication:\",c)\n",
        "d=arr1/arr2\n",
        "print(\"Division:\",d)\n",
        "e=arr1**arr2\n",
        "print(\"powerof:\",e)\n",
        "text1=np.array([\"sree\"])\n",
        "text2=np.array([\"navya\"])\n",
        "r=np.append(text1,text2)\n",
        "print(\"TextAddition:\",r)\n",
        "n=np.sin(arr1)\n",
        "print(\"sin:\",n)\n",
        "m=np.log(arr1)\n",
        "print(\"log:\",m)\n",
        "p=np.log2(arr2)\n",
        "print(\"log2:\",p)\n",
        "q=np.exp(arr1)\n",
        "print(\"exponent:\",q)\n"
      ]
    }
  ]
}