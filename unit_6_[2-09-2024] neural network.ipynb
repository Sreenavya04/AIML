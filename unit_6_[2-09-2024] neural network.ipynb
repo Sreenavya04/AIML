{
  "nbformat": 4,
  "nbformat_minor": 0,
  "metadata": {
    "colab": {
      "provenance": [],
      "authorship_tag": "ABX9TyPfBKHvWpfGywf8+v3IBmKD",
      "include_colab_link": true
    },
    "kernelspec": {
      "name": "python3",
      "display_name": "Python 3"
    },
    "language_info": {
      "name": "python"
    }
  },
  "cells": [
    {
      "cell_type": "markdown",
      "metadata": {
        "id": "view-in-github",
        "colab_type": "text"
      },
      "source": [
        "<a href=\"https://colab.research.google.com/github/Sreenavya04/AIML/blob/main/unit_6_%5B2-09-2024%5D%20neural%20network.ipynb\" target=\"_parent\"><img src=\"https://colab.research.google.com/assets/colab-badge.svg\" alt=\"Open In Colab\"/></a>"
      ]
    },
    {
      "cell_type": "code",
      "execution_count": 14,
      "metadata": {
        "colab": {
          "base_uri": "https://localhost:8080/"
        },
        "id": "k4tR10nksKbJ",
        "outputId": "8eb456c2-5abe-4074-acac-fdc7ff8ebcaa"
      },
      "outputs": [
        {
          "output_type": "stream",
          "name": "stdout",
          "text": [
            "1.3\n",
            "[1.1, 0.55, 1.1600000000000001]\n",
            "[2.48  2.787 1.181]\n",
            "[2.48  2.787 1.181]\n",
            "[1.1  0.55 1.16]\n",
            "[0.75026011 0.63413559 0.76133271]\n"
          ]
        }
      ],
      "source": [
        "inputs=[1,2,3]\n",
        "weights=[0.2,0.3,-0.5]\n",
        "bias=2\n",
        "output=inputs[0]*weights[0]+inputs[1]*weights[1]+inputs[2]*weights[2]+bias\n",
        "print(output)\n",
        "\n",
        "#2)\n",
        "inputs=[0.4,0.3,1,0.8]\n",
        "weights1=[0.3,0.2,0.1,0.4]\n",
        "weights2=[0.4,0.1,-0.1,0.2]\n",
        "weights3=[0.2,-0.2,-0.1,0.8]\n",
        "bias1=0.5\n",
        "bias2=0.3\n",
        "bias3=0.6\n",
        "output=[inputs[0]*weights1[0]+inputs[1]*weights1[1]+inputs[2]*weights1[2]+inputs[3]*weights1[3]+bias1,\n",
        "        inputs[0]*weights2[0]+inputs[1]*weights2[1]+inputs[2]*weights2[2]+inputs[3]*weights2[3]+bias2,\n",
        "        inputs[0]*weights3[0]+inputs[1]*weights3[1]+inputs[2]*weights3[2]+inputs[3]*weights3[3]+bias3]\n",
        "print(output)\n",
        "\n",
        "#3)\n",
        "import numpy as np\n",
        "inputs=np.array([0.4,0.3,1,0.8])\n",
        "weights=np.array([\n",
        "    [0.3,0.2,-0.5,1.0],\n",
        "    [0.5,-0.91,0.26,-0.5],\n",
        "    [-0.26,-0.27,0.17,0.87]\n",
        "])\n",
        "biases=np.array([2,3,0.5])\n",
        "output=np.dot(weights,inputs)+biases\n",
        "print(output)\n",
        "#with using def\n",
        "def relu(x):\n",
        "  return np.maximum(0,x)\n",
        "  inputs=np.array([0.4,0.3,1,0.8])\n",
        "weights=np.array([\n",
        "    [0.3,0.2,-0.5,1.0],\n",
        "    [0.5,-0.91,0.26,-0.5],\n",
        "    [-0.26,-0.27,0.17,0.87]\n",
        "])\n",
        "biases=np.array([2,3,0.5])\n",
        "output=np.dot(weights,inputs)+biases\n",
        "output=relu(output)\n",
        "print(output)\n",
        "\n",
        "import numpy as np\n",
        "\n",
        "def sigmoid(x):\n",
        "  return 1 / (1 + np.exp(-x))\n",
        "\n",
        "def relu(x):\n",
        "  return np.maximum(0,x)\n",
        "\n",
        "inputs = np.array([0.4, 0.3, 1, 0.8])\n",
        "weights = np.array([\n",
        "    [0.3, 0.2, 0.1, 0.4],\n",
        "    [0.4, 0.1, -0.1, 0.2],\n",
        "    [0.2, -0.2, -0.1, 0.8]\n",
        "])\n",
        "biases = np.array([0.5, 0.3, 0.6])\n",
        "\n",
        "output = relu(np.dot(weights, inputs) + biases)\n",
        "#Activation ReLU activation function\n",
        "output1=relu(output)\n",
        "print(output1)\n",
        "output2=sigmoid(output)\n",
        "print(output2)\n",
        "\n",
        "\n"
      ]
    },
    {
      "cell_type": "markdown",
      "source": [],
      "metadata": {
        "id": "3eoDrnycz1Sz"
      }
    }
  ]
}